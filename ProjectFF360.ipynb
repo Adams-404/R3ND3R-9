{
  "nbformat": 4,
  "nbformat_minor": 0,
  "metadata": {
    "colab": {
      "provenance": [],
      "authorship_tag": "ABX9TyN/WLdIA1ygykHusAUDkqqb",
      "include_colab_link": true
    },
    "kernelspec": {
      "name": "python3",
      "display_name": "Python 3"
    },
    "language_info": {
      "name": "python"
    }
  },
  "cells": [
    {
      "cell_type": "markdown",
      "metadata": {
        "id": "view-in-github",
        "colab_type": "text"
      },
      "source": [
        "<a href=\"https://colab.research.google.com/github/Adams-404/012AI/blob/main/ProjectFF360.ipynb\" target=\"_parent\"><img src=\"https://colab.research.google.com/assets/colab-badge.svg\" alt=\"Open In Colab\"/></a>"
      ]
    },
    {
      "cell_type": "code",
      "execution_count": 1,
      "metadata": {
        "colab": {
          "base_uri": "https://localhost:8080/"
        },
        "id": "flSK7udzdfjL",
        "outputId": "95507a93-4a09-41d9-89df-b892887dabe2"
      },
      "outputs": [
        {
          "output_type": "stream",
          "name": "stdout",
          "text": [
            "Collecting ultralytics\n",
            "  Downloading ultralytics-8.3.198-py3-none-any.whl.metadata (37 kB)\n",
            "Collecting roboflow\n",
            "  Downloading roboflow-1.2.9-py3-none-any.whl.metadata (9.7 kB)\n",
            "Requirement already satisfied: opencv-python in /usr/local/lib/python3.12/dist-packages (4.12.0.88)\n",
            "Requirement already satisfied: numpy>=1.23.0 in /usr/local/lib/python3.12/dist-packages (from ultralytics) (2.0.2)\n",
            "Requirement already satisfied: matplotlib>=3.3.0 in /usr/local/lib/python3.12/dist-packages (from ultralytics) (3.10.0)\n",
            "Requirement already satisfied: pillow>=7.1.2 in /usr/local/lib/python3.12/dist-packages (from ultralytics) (11.3.0)\n",
            "Requirement already satisfied: pyyaml>=5.3.1 in /usr/local/lib/python3.12/dist-packages (from ultralytics) (6.0.2)\n",
            "Requirement already satisfied: requests>=2.23.0 in /usr/local/lib/python3.12/dist-packages (from ultralytics) (2.32.4)\n",
            "Requirement already satisfied: scipy>=1.4.1 in /usr/local/lib/python3.12/dist-packages (from ultralytics) (1.16.1)\n",
            "Requirement already satisfied: torch>=1.8.0 in /usr/local/lib/python3.12/dist-packages (from ultralytics) (2.8.0+cu126)\n",
            "Requirement already satisfied: torchvision>=0.9.0 in /usr/local/lib/python3.12/dist-packages (from ultralytics) (0.23.0+cu126)\n",
            "Requirement already satisfied: psutil in /usr/local/lib/python3.12/dist-packages (from ultralytics) (5.9.5)\n",
            "Requirement already satisfied: polars in /usr/local/lib/python3.12/dist-packages (from ultralytics) (1.25.2)\n",
            "Collecting ultralytics-thop>=2.0.0 (from ultralytics)\n",
            "  Downloading ultralytics_thop-2.0.17-py3-none-any.whl.metadata (14 kB)\n",
            "Requirement already satisfied: certifi in /usr/local/lib/python3.12/dist-packages (from roboflow) (2025.8.3)\n",
            "Collecting idna==3.7 (from roboflow)\n",
            "  Downloading idna-3.7-py3-none-any.whl.metadata (9.9 kB)\n",
            "Requirement already satisfied: cycler in /usr/local/lib/python3.12/dist-packages (from roboflow) (0.12.1)\n",
            "Requirement already satisfied: kiwisolver>=1.3.1 in /usr/local/lib/python3.12/dist-packages (from roboflow) (1.4.9)\n",
            "Collecting opencv-python-headless==4.10.0.84 (from roboflow)\n",
            "  Downloading opencv_python_headless-4.10.0.84-cp37-abi3-manylinux_2_17_x86_64.manylinux2014_x86_64.whl.metadata (20 kB)\n",
            "Collecting pi-heif<2 (from roboflow)\n",
            "  Downloading pi_heif-1.1.0-cp312-cp312-manylinux_2_27_x86_64.manylinux_2_28_x86_64.whl.metadata (6.5 kB)\n",
            "Collecting pillow-avif-plugin<2 (from roboflow)\n",
            "  Downloading pillow_avif_plugin-1.5.2-cp312-cp312-manylinux_2_28_x86_64.whl.metadata (2.1 kB)\n",
            "Requirement already satisfied: python-dateutil in /usr/local/lib/python3.12/dist-packages (from roboflow) (2.9.0.post0)\n",
            "Requirement already satisfied: python-dotenv in /usr/local/lib/python3.12/dist-packages (from roboflow) (1.1.1)\n",
            "Requirement already satisfied: six in /usr/local/lib/python3.12/dist-packages (from roboflow) (1.17.0)\n",
            "Requirement already satisfied: urllib3>=1.26.6 in /usr/local/lib/python3.12/dist-packages (from roboflow) (2.5.0)\n",
            "Requirement already satisfied: tqdm>=4.41.0 in /usr/local/lib/python3.12/dist-packages (from roboflow) (4.67.1)\n",
            "Requirement already satisfied: requests-toolbelt in /usr/local/lib/python3.12/dist-packages (from roboflow) (1.0.0)\n",
            "Collecting filetype (from roboflow)\n",
            "  Downloading filetype-1.2.0-py2.py3-none-any.whl.metadata (6.5 kB)\n",
            "Requirement already satisfied: contourpy>=1.0.1 in /usr/local/lib/python3.12/dist-packages (from matplotlib>=3.3.0->ultralytics) (1.3.3)\n",
            "Requirement already satisfied: fonttools>=4.22.0 in /usr/local/lib/python3.12/dist-packages (from matplotlib>=3.3.0->ultralytics) (4.59.2)\n",
            "Requirement already satisfied: packaging>=20.0 in /usr/local/lib/python3.12/dist-packages (from matplotlib>=3.3.0->ultralytics) (25.0)\n",
            "Requirement already satisfied: pyparsing>=2.3.1 in /usr/local/lib/python3.12/dist-packages (from matplotlib>=3.3.0->ultralytics) (3.2.3)\n",
            "Requirement already satisfied: charset_normalizer<4,>=2 in /usr/local/lib/python3.12/dist-packages (from requests>=2.23.0->ultralytics) (3.4.3)\n",
            "Requirement already satisfied: filelock in /usr/local/lib/python3.12/dist-packages (from torch>=1.8.0->ultralytics) (3.19.1)\n",
            "Requirement already satisfied: typing-extensions>=4.10.0 in /usr/local/lib/python3.12/dist-packages (from torch>=1.8.0->ultralytics) (4.15.0)\n",
            "Requirement already satisfied: setuptools in /usr/local/lib/python3.12/dist-packages (from torch>=1.8.0->ultralytics) (75.2.0)\n",
            "Requirement already satisfied: sympy>=1.13.3 in /usr/local/lib/python3.12/dist-packages (from torch>=1.8.0->ultralytics) (1.13.3)\n",
            "Requirement already satisfied: networkx in /usr/local/lib/python3.12/dist-packages (from torch>=1.8.0->ultralytics) (3.5)\n",
            "Requirement already satisfied: jinja2 in /usr/local/lib/python3.12/dist-packages (from torch>=1.8.0->ultralytics) (3.1.6)\n",
            "Requirement already satisfied: fsspec in /usr/local/lib/python3.12/dist-packages (from torch>=1.8.0->ultralytics) (2025.3.0)\n",
            "Requirement already satisfied: nvidia-cuda-nvrtc-cu12==12.6.77 in /usr/local/lib/python3.12/dist-packages (from torch>=1.8.0->ultralytics) (12.6.77)\n",
            "Requirement already satisfied: nvidia-cuda-runtime-cu12==12.6.77 in /usr/local/lib/python3.12/dist-packages (from torch>=1.8.0->ultralytics) (12.6.77)\n",
            "Requirement already satisfied: nvidia-cuda-cupti-cu12==12.6.80 in /usr/local/lib/python3.12/dist-packages (from torch>=1.8.0->ultralytics) (12.6.80)\n",
            "Requirement already satisfied: nvidia-cudnn-cu12==9.10.2.21 in /usr/local/lib/python3.12/dist-packages (from torch>=1.8.0->ultralytics) (9.10.2.21)\n",
            "Requirement already satisfied: nvidia-cublas-cu12==12.6.4.1 in /usr/local/lib/python3.12/dist-packages (from torch>=1.8.0->ultralytics) (12.6.4.1)\n",
            "Requirement already satisfied: nvidia-cufft-cu12==11.3.0.4 in /usr/local/lib/python3.12/dist-packages (from torch>=1.8.0->ultralytics) (11.3.0.4)\n",
            "Requirement already satisfied: nvidia-curand-cu12==10.3.7.77 in /usr/local/lib/python3.12/dist-packages (from torch>=1.8.0->ultralytics) (10.3.7.77)\n",
            "Requirement already satisfied: nvidia-cusolver-cu12==11.7.1.2 in /usr/local/lib/python3.12/dist-packages (from torch>=1.8.0->ultralytics) (11.7.1.2)\n",
            "Requirement already satisfied: nvidia-cusparse-cu12==12.5.4.2 in /usr/local/lib/python3.12/dist-packages (from torch>=1.8.0->ultralytics) (12.5.4.2)\n",
            "Requirement already satisfied: nvidia-cusparselt-cu12==0.7.1 in /usr/local/lib/python3.12/dist-packages (from torch>=1.8.0->ultralytics) (0.7.1)\n",
            "Requirement already satisfied: nvidia-nccl-cu12==2.27.3 in /usr/local/lib/python3.12/dist-packages (from torch>=1.8.0->ultralytics) (2.27.3)\n",
            "Requirement already satisfied: nvidia-nvtx-cu12==12.6.77 in /usr/local/lib/python3.12/dist-packages (from torch>=1.8.0->ultralytics) (12.6.77)\n",
            "Requirement already satisfied: nvidia-nvjitlink-cu12==12.6.85 in /usr/local/lib/python3.12/dist-packages (from torch>=1.8.0->ultralytics) (12.6.85)\n",
            "Requirement already satisfied: nvidia-cufile-cu12==1.11.1.6 in /usr/local/lib/python3.12/dist-packages (from torch>=1.8.0->ultralytics) (1.11.1.6)\n",
            "Requirement already satisfied: triton==3.4.0 in /usr/local/lib/python3.12/dist-packages (from torch>=1.8.0->ultralytics) (3.4.0)\n",
            "Requirement already satisfied: mpmath<1.4,>=1.1.0 in /usr/local/lib/python3.12/dist-packages (from sympy>=1.13.3->torch>=1.8.0->ultralytics) (1.3.0)\n",
            "Requirement already satisfied: MarkupSafe>=2.0 in /usr/local/lib/python3.12/dist-packages (from jinja2->torch>=1.8.0->ultralytics) (3.0.2)\n",
            "Downloading ultralytics-8.3.198-py3-none-any.whl (1.1 MB)\n",
            "\u001b[2K   \u001b[90m━━━━━━━━━━━━━━━━━━━━━━━━━━━━━━━━━━━━━━━━\u001b[0m \u001b[32m1.1/1.1 MB\u001b[0m \u001b[31m19.1 MB/s\u001b[0m eta \u001b[36m0:00:00\u001b[0m\n",
            "\u001b[?25hDownloading roboflow-1.2.9-py3-none-any.whl (88 kB)\n",
            "\u001b[2K   \u001b[90m━━━━━━━━━━━━━━━━━━━━━━━━━━━━━━━━━━━━━━━━\u001b[0m \u001b[32m88.7/88.7 kB\u001b[0m \u001b[31m5.8 MB/s\u001b[0m eta \u001b[36m0:00:00\u001b[0m\n",
            "\u001b[?25hDownloading idna-3.7-py3-none-any.whl (66 kB)\n",
            "\u001b[2K   \u001b[90m━━━━━━━━━━━━━━━━━━━━━━━━━━━━━━━━━━━━━━━━\u001b[0m \u001b[32m66.8/66.8 kB\u001b[0m \u001b[31m4.0 MB/s\u001b[0m eta \u001b[36m0:00:00\u001b[0m\n",
            "\u001b[?25hDownloading opencv_python_headless-4.10.0.84-cp37-abi3-manylinux_2_17_x86_64.manylinux2014_x86_64.whl (49.9 MB)\n",
            "\u001b[2K   \u001b[90m━━━━━━━━━━━━━━━━━━━━━━━━━━━━━━━━━━━━━━━━\u001b[0m \u001b[32m49.9/49.9 MB\u001b[0m \u001b[31m15.8 MB/s\u001b[0m eta \u001b[36m0:00:00\u001b[0m\n",
            "\u001b[?25hDownloading pi_heif-1.1.0-cp312-cp312-manylinux_2_27_x86_64.manylinux_2_28_x86_64.whl (1.4 MB)\n",
            "\u001b[2K   \u001b[90m━━━━━━━━━━━━━━━━━━━━━━━━━━━━━━━━━━━━━━━━\u001b[0m \u001b[32m1.4/1.4 MB\u001b[0m \u001b[31m52.9 MB/s\u001b[0m eta \u001b[36m0:00:00\u001b[0m\n",
            "\u001b[?25hDownloading pillow_avif_plugin-1.5.2-cp312-cp312-manylinux_2_28_x86_64.whl (4.2 MB)\n",
            "\u001b[2K   \u001b[90m━━━━━━━━━━━━━━━━━━━━━━━━━━━━━━━━━━━━━━━━\u001b[0m \u001b[32m4.2/4.2 MB\u001b[0m \u001b[31m73.9 MB/s\u001b[0m eta \u001b[36m0:00:00\u001b[0m\n",
            "\u001b[?25hDownloading ultralytics_thop-2.0.17-py3-none-any.whl (28 kB)\n",
            "Downloading filetype-1.2.0-py2.py3-none-any.whl (19 kB)\n",
            "Installing collected packages: pillow-avif-plugin, filetype, pi-heif, opencv-python-headless, idna, ultralytics-thop, roboflow, ultralytics\n",
            "  Attempting uninstall: opencv-python-headless\n",
            "    Found existing installation: opencv-python-headless 4.12.0.88\n",
            "    Uninstalling opencv-python-headless-4.12.0.88:\n",
            "      Successfully uninstalled opencv-python-headless-4.12.0.88\n",
            "  Attempting uninstall: idna\n",
            "    Found existing installation: idna 3.10\n",
            "    Uninstalling idna-3.10:\n",
            "      Successfully uninstalled idna-3.10\n",
            "Successfully installed filetype-1.2.0 idna-3.7 opencv-python-headless-4.10.0.84 pi-heif-1.1.0 pillow-avif-plugin-1.5.2 roboflow-1.2.9 ultralytics-8.3.198 ultralytics-thop-2.0.17\n"
          ]
        }
      ],
      "source": [
        "!pip install ultralytics roboflow opencv-python"
      ]
    },
    {
      "cell_type": "code",
      "source": [
        "from ultralytics import YOLO\n",
        "model = YOLO(\"yolov8n-seg.pt\")  # nano segmentation model (lightweight)\n",
        "model.predict(source=\"https://ultralytics.com/images/zidane.jpg\")\n"
      ],
      "metadata": {
        "colab": {
          "base_uri": "https://localhost:8080/"
        },
        "id": "oIdoV5__fAsA",
        "outputId": "70890ca9-f498-400a-d129-7eaa4257b625"
      },
      "execution_count": 2,
      "outputs": [
        {
          "output_type": "stream",
          "name": "stdout",
          "text": [
            "Creating new Ultralytics Settings v0.0.6 file ✅ \n",
            "View Ultralytics Settings with 'yolo settings' or at '/root/.config/Ultralytics/settings.json'\n",
            "Update Settings with 'yolo settings key=value', i.e. 'yolo settings runs_dir=path/to/dir'. For help see https://docs.ultralytics.com/quickstart/#ultralytics-settings.\n",
            "\u001b[KDownloading https://github.com/ultralytics/assets/releases/download/v8.3.0/yolov8n-seg.pt to 'yolov8n-seg.pt': 100% ━━━━━━━━━━━━ 6.7MB 69.5MB/s 0.1s\n",
            "\n",
            "\u001b[KDownloading https://ultralytics.com/images/zidane.jpg to 'zidane.jpg': 100% ━━━━━━━━━━━━ 49.2KB 3.6MB/s 0.0s\n",
            "image 1/1 /content/zidane.jpg: 384x640 2 persons, 1 tie, 550.4ms\n",
            "Speed: 10.8ms preprocess, 550.4ms inference, 59.8ms postprocess per image at shape (1, 3, 384, 640)\n"
          ]
        },
        {
          "output_type": "execute_result",
          "data": {
            "text/plain": [
              "[ultralytics.engine.results.Results object with attributes:\n",
              " \n",
              " boxes: ultralytics.engine.results.Boxes object\n",
              " keypoints: None\n",
              " masks: ultralytics.engine.results.Masks object\n",
              " names: {0: 'person', 1: 'bicycle', 2: 'car', 3: 'motorcycle', 4: 'airplane', 5: 'bus', 6: 'train', 7: 'truck', 8: 'boat', 9: 'traffic light', 10: 'fire hydrant', 11: 'stop sign', 12: 'parking meter', 13: 'bench', 14: 'bird', 15: 'cat', 16: 'dog', 17: 'horse', 18: 'sheep', 19: 'cow', 20: 'elephant', 21: 'bear', 22: 'zebra', 23: 'giraffe', 24: 'backpack', 25: 'umbrella', 26: 'handbag', 27: 'tie', 28: 'suitcase', 29: 'frisbee', 30: 'skis', 31: 'snowboard', 32: 'sports ball', 33: 'kite', 34: 'baseball bat', 35: 'baseball glove', 36: 'skateboard', 37: 'surfboard', 38: 'tennis racket', 39: 'bottle', 40: 'wine glass', 41: 'cup', 42: 'fork', 43: 'knife', 44: 'spoon', 45: 'bowl', 46: 'banana', 47: 'apple', 48: 'sandwich', 49: 'orange', 50: 'broccoli', 51: 'carrot', 52: 'hot dog', 53: 'pizza', 54: 'donut', 55: 'cake', 56: 'chair', 57: 'couch', 58: 'potted plant', 59: 'bed', 60: 'dining table', 61: 'toilet', 62: 'tv', 63: 'laptop', 64: 'mouse', 65: 'remote', 66: 'keyboard', 67: 'cell phone', 68: 'microwave', 69: 'oven', 70: 'toaster', 71: 'sink', 72: 'refrigerator', 73: 'book', 74: 'clock', 75: 'vase', 76: 'scissors', 77: 'teddy bear', 78: 'hair drier', 79: 'toothbrush'}\n",
              " obb: None\n",
              " orig_img: array([[[44, 51, 76],\n",
              "         [43, 50, 75],\n",
              "         [41, 48, 73],\n",
              "         ...,\n",
              "         [20, 18, 54],\n",
              "         [18, 16, 52],\n",
              "         [17, 15, 51]],\n",
              " \n",
              "        [[44, 51, 76],\n",
              "         [43, 50, 75],\n",
              "         [41, 48, 73],\n",
              "         ...,\n",
              "         [20, 18, 54],\n",
              "         [18, 16, 52],\n",
              "         [18, 16, 52]],\n",
              " \n",
              "        [[44, 51, 76],\n",
              "         [43, 50, 75],\n",
              "         [41, 48, 73],\n",
              "         ...,\n",
              "         [21, 18, 57],\n",
              "         [19, 16, 55],\n",
              "         [18, 15, 54]],\n",
              " \n",
              "        ...,\n",
              " \n",
              "        [[53, 44, 40],\n",
              "         [52, 43, 39],\n",
              "         [51, 42, 38],\n",
              "         ...,\n",
              "         [50, 50, 38],\n",
              "         [51, 51, 39],\n",
              "         [52, 52, 40]],\n",
              " \n",
              "        [[53, 44, 40],\n",
              "         [52, 43, 39],\n",
              "         [51, 42, 38],\n",
              "         ...,\n",
              "         [50, 50, 38],\n",
              "         [51, 51, 39],\n",
              "         [52, 52, 40]],\n",
              " \n",
              "        [[53, 44, 40],\n",
              "         [52, 43, 39],\n",
              "         [51, 42, 38],\n",
              "         ...,\n",
              "         [49, 49, 37],\n",
              "         [51, 51, 39],\n",
              "         [52, 52, 40]]], dtype=uint8)\n",
              " orig_shape: (720, 1280)\n",
              " path: '/content/zidane.jpg'\n",
              " probs: None\n",
              " save_dir: '/content/runs/segment/predict'\n",
              " speed: {'preprocess': 10.836490999992066, 'inference': 550.3831360000078, 'postprocess': 59.786473000002616}]"
            ]
          },
          "metadata": {},
          "execution_count": 2
        }
      ]
    },
    {
      "cell_type": "code",
      "source": [
        "# Colab cell 1: install\n",
        "!pip install opencv-python pillow kaggle"
      ],
      "metadata": {
        "colab": {
          "base_uri": "https://localhost:8080/"
        },
        "id": "Jftd_WyhhZyg",
        "outputId": "14442933-b721-4312-8e93-3ddd64ea8e9a"
      },
      "execution_count": 3,
      "outputs": [
        {
          "output_type": "stream",
          "name": "stdout",
          "text": [
            "Requirement already satisfied: opencv-python in /usr/local/lib/python3.12/dist-packages (4.12.0.88)\n",
            "Requirement already satisfied: pillow in /usr/local/lib/python3.12/dist-packages (11.3.0)\n",
            "Requirement already satisfied: kaggle in /usr/local/lib/python3.12/dist-packages (1.7.4.5)\n",
            "Requirement already satisfied: numpy<2.3.0,>=2 in /usr/local/lib/python3.12/dist-packages (from opencv-python) (2.0.2)\n",
            "Requirement already satisfied: bleach in /usr/local/lib/python3.12/dist-packages (from kaggle) (6.2.0)\n",
            "Requirement already satisfied: certifi>=14.05.14 in /usr/local/lib/python3.12/dist-packages (from kaggle) (2025.8.3)\n",
            "Requirement already satisfied: charset-normalizer in /usr/local/lib/python3.12/dist-packages (from kaggle) (3.4.3)\n",
            "Requirement already satisfied: idna in /usr/local/lib/python3.12/dist-packages (from kaggle) (3.7)\n",
            "Requirement already satisfied: protobuf in /usr/local/lib/python3.12/dist-packages (from kaggle) (5.29.5)\n",
            "Requirement already satisfied: python-dateutil>=2.5.3 in /usr/local/lib/python3.12/dist-packages (from kaggle) (2.9.0.post0)\n",
            "Requirement already satisfied: python-slugify in /usr/local/lib/python3.12/dist-packages (from kaggle) (8.0.4)\n",
            "Requirement already satisfied: requests in /usr/local/lib/python3.12/dist-packages (from kaggle) (2.32.4)\n",
            "Requirement already satisfied: setuptools>=21.0.0 in /usr/local/lib/python3.12/dist-packages (from kaggle) (75.2.0)\n",
            "Requirement already satisfied: six>=1.10 in /usr/local/lib/python3.12/dist-packages (from kaggle) (1.17.0)\n",
            "Requirement already satisfied: text-unidecode in /usr/local/lib/python3.12/dist-packages (from kaggle) (1.3)\n",
            "Requirement already satisfied: tqdm in /usr/local/lib/python3.12/dist-packages (from kaggle) (4.67.1)\n",
            "Requirement already satisfied: urllib3>=1.15.1 in /usr/local/lib/python3.12/dist-packages (from kaggle) (2.5.0)\n",
            "Requirement already satisfied: webencodings in /usr/local/lib/python3.12/dist-packages (from kaggle) (0.5.1)\n"
          ]
        }
      ]
    },
    {
      "cell_type": "code",
      "source": [
        "# Colab cell 2: mount Google Drive\n",
        "from google.colab import drive\n",
        "drive.mount('/content/drive')"
      ],
      "metadata": {
        "colab": {
          "base_uri": "https://localhost:8080/"
        },
        "id": "rOuQ7lfRhgCb",
        "outputId": "e3543779-e15e-464f-bd50-bc27f13f506f"
      },
      "execution_count": 4,
      "outputs": [
        {
          "output_type": "stream",
          "name": "stdout",
          "text": [
            "Mounted at /content/drive\n"
          ]
        }
      ]
    },
    {
      "cell_type": "code",
      "source": [
        "from google.colab import files\n",
        "print(\"Please upload kaggle.json (downloaded from Kaggle > Account > Create New API Token)\")\n",
        "files.upload()\n"
      ],
      "metadata": {
        "colab": {
          "base_uri": "https://localhost:8080/",
          "height": 110
        },
        "id": "7UN0FFD2ier3",
        "outputId": "48761ceb-353a-45db-d6af-67dda117c603"
      },
      "execution_count": 5,
      "outputs": [
        {
          "output_type": "stream",
          "name": "stdout",
          "text": [
            "Please upload kaggle.json (downloaded from Kaggle > Account > Create New API Token)\n"
          ]
        },
        {
          "output_type": "display_data",
          "data": {
            "text/plain": [
              "<IPython.core.display.HTML object>"
            ],
            "text/html": [
              "\n",
              "     <input type=\"file\" id=\"files-be47f4b6-26a8-4cef-ba8b-788909c3c361\" name=\"files[]\" multiple disabled\n",
              "        style=\"border:none\" />\n",
              "     <output id=\"result-be47f4b6-26a8-4cef-ba8b-788909c3c361\">\n",
              "      Upload widget is only available when the cell has been executed in the\n",
              "      current browser session. Please rerun this cell to enable.\n",
              "      </output>\n",
              "      <script>// Copyright 2017 Google LLC\n",
              "//\n",
              "// Licensed under the Apache License, Version 2.0 (the \"License\");\n",
              "// you may not use this file except in compliance with the License.\n",
              "// You may obtain a copy of the License at\n",
              "//\n",
              "//      http://www.apache.org/licenses/LICENSE-2.0\n",
              "//\n",
              "// Unless required by applicable law or agreed to in writing, software\n",
              "// distributed under the License is distributed on an \"AS IS\" BASIS,\n",
              "// WITHOUT WARRANTIES OR CONDITIONS OF ANY KIND, either express or implied.\n",
              "// See the License for the specific language governing permissions and\n",
              "// limitations under the License.\n",
              "\n",
              "/**\n",
              " * @fileoverview Helpers for google.colab Python module.\n",
              " */\n",
              "(function(scope) {\n",
              "function span(text, styleAttributes = {}) {\n",
              "  const element = document.createElement('span');\n",
              "  element.textContent = text;\n",
              "  for (const key of Object.keys(styleAttributes)) {\n",
              "    element.style[key] = styleAttributes[key];\n",
              "  }\n",
              "  return element;\n",
              "}\n",
              "\n",
              "// Max number of bytes which will be uploaded at a time.\n",
              "const MAX_PAYLOAD_SIZE = 100 * 1024;\n",
              "\n",
              "function _uploadFiles(inputId, outputId) {\n",
              "  const steps = uploadFilesStep(inputId, outputId);\n",
              "  const outputElement = document.getElementById(outputId);\n",
              "  // Cache steps on the outputElement to make it available for the next call\n",
              "  // to uploadFilesContinue from Python.\n",
              "  outputElement.steps = steps;\n",
              "\n",
              "  return _uploadFilesContinue(outputId);\n",
              "}\n",
              "\n",
              "// This is roughly an async generator (not supported in the browser yet),\n",
              "// where there are multiple asynchronous steps and the Python side is going\n",
              "// to poll for completion of each step.\n",
              "// This uses a Promise to block the python side on completion of each step,\n",
              "// then passes the result of the previous step as the input to the next step.\n",
              "function _uploadFilesContinue(outputId) {\n",
              "  const outputElement = document.getElementById(outputId);\n",
              "  const steps = outputElement.steps;\n",
              "\n",
              "  const next = steps.next(outputElement.lastPromiseValue);\n",
              "  return Promise.resolve(next.value.promise).then((value) => {\n",
              "    // Cache the last promise value to make it available to the next\n",
              "    // step of the generator.\n",
              "    outputElement.lastPromiseValue = value;\n",
              "    return next.value.response;\n",
              "  });\n",
              "}\n",
              "\n",
              "/**\n",
              " * Generator function which is called between each async step of the upload\n",
              " * process.\n",
              " * @param {string} inputId Element ID of the input file picker element.\n",
              " * @param {string} outputId Element ID of the output display.\n",
              " * @return {!Iterable<!Object>} Iterable of next steps.\n",
              " */\n",
              "function* uploadFilesStep(inputId, outputId) {\n",
              "  const inputElement = document.getElementById(inputId);\n",
              "  inputElement.disabled = false;\n",
              "\n",
              "  const outputElement = document.getElementById(outputId);\n",
              "  outputElement.innerHTML = '';\n",
              "\n",
              "  const pickedPromise = new Promise((resolve) => {\n",
              "    inputElement.addEventListener('change', (e) => {\n",
              "      resolve(e.target.files);\n",
              "    });\n",
              "  });\n",
              "\n",
              "  const cancel = document.createElement('button');\n",
              "  inputElement.parentElement.appendChild(cancel);\n",
              "  cancel.textContent = 'Cancel upload';\n",
              "  const cancelPromise = new Promise((resolve) => {\n",
              "    cancel.onclick = () => {\n",
              "      resolve(null);\n",
              "    };\n",
              "  });\n",
              "\n",
              "  // Wait for the user to pick the files.\n",
              "  const files = yield {\n",
              "    promise: Promise.race([pickedPromise, cancelPromise]),\n",
              "    response: {\n",
              "      action: 'starting',\n",
              "    }\n",
              "  };\n",
              "\n",
              "  cancel.remove();\n",
              "\n",
              "  // Disable the input element since further picks are not allowed.\n",
              "  inputElement.disabled = true;\n",
              "\n",
              "  if (!files) {\n",
              "    return {\n",
              "      response: {\n",
              "        action: 'complete',\n",
              "      }\n",
              "    };\n",
              "  }\n",
              "\n",
              "  for (const file of files) {\n",
              "    const li = document.createElement('li');\n",
              "    li.append(span(file.name, {fontWeight: 'bold'}));\n",
              "    li.append(span(\n",
              "        `(${file.type || 'n/a'}) - ${file.size} bytes, ` +\n",
              "        `last modified: ${\n",
              "            file.lastModifiedDate ? file.lastModifiedDate.toLocaleDateString() :\n",
              "                                    'n/a'} - `));\n",
              "    const percent = span('0% done');\n",
              "    li.appendChild(percent);\n",
              "\n",
              "    outputElement.appendChild(li);\n",
              "\n",
              "    const fileDataPromise = new Promise((resolve) => {\n",
              "      const reader = new FileReader();\n",
              "      reader.onload = (e) => {\n",
              "        resolve(e.target.result);\n",
              "      };\n",
              "      reader.readAsArrayBuffer(file);\n",
              "    });\n",
              "    // Wait for the data to be ready.\n",
              "    let fileData = yield {\n",
              "      promise: fileDataPromise,\n",
              "      response: {\n",
              "        action: 'continue',\n",
              "      }\n",
              "    };\n",
              "\n",
              "    // Use a chunked sending to avoid message size limits. See b/62115660.\n",
              "    let position = 0;\n",
              "    do {\n",
              "      const length = Math.min(fileData.byteLength - position, MAX_PAYLOAD_SIZE);\n",
              "      const chunk = new Uint8Array(fileData, position, length);\n",
              "      position += length;\n",
              "\n",
              "      const base64 = btoa(String.fromCharCode.apply(null, chunk));\n",
              "      yield {\n",
              "        response: {\n",
              "          action: 'append',\n",
              "          file: file.name,\n",
              "          data: base64,\n",
              "        },\n",
              "      };\n",
              "\n",
              "      let percentDone = fileData.byteLength === 0 ?\n",
              "          100 :\n",
              "          Math.round((position / fileData.byteLength) * 100);\n",
              "      percent.textContent = `${percentDone}% done`;\n",
              "\n",
              "    } while (position < fileData.byteLength);\n",
              "  }\n",
              "\n",
              "  // All done.\n",
              "  yield {\n",
              "    response: {\n",
              "      action: 'complete',\n",
              "    }\n",
              "  };\n",
              "}\n",
              "\n",
              "scope.google = scope.google || {};\n",
              "scope.google.colab = scope.google.colab || {};\n",
              "scope.google.colab._files = {\n",
              "  _uploadFiles,\n",
              "  _uploadFilesContinue,\n",
              "};\n",
              "})(self);\n",
              "</script> "
            ]
          },
          "metadata": {}
        },
        {
          "output_type": "stream",
          "name": "stdout",
          "text": [
            "Saving kaggle.json to kaggle.json\n"
          ]
        },
        {
          "output_type": "execute_result",
          "data": {
            "text/plain": [
              "{'kaggle.json': b'{\"username\":\"muhammadadamualiyu\",\"key\":\"3ca77508f1ff1933b60836bd9fd91591\"}'}"
            ]
          },
          "metadata": {},
          "execution_count": 5
        }
      ]
    },
    {
      "cell_type": "code",
      "source": [
        "!mkdir -p ~/.kaggle\n",
        "!cp kaggle.json ~/.kaggle/\n",
        "!chmod 600 ~/.kaggle/kaggle.json"
      ],
      "metadata": {
        "id": "InVYFmjeioJf"
      },
      "execution_count": 6,
      "outputs": []
    },
    {
      "cell_type": "code",
      "source": [
        "!kaggle datasets download -d sandeshbhat/satellite-images-to-predict-povertyafrica -p /content --unzip"
      ],
      "metadata": {
        "colab": {
          "base_uri": "https://localhost:8080/"
        },
        "id": "3IpwZ-_yjyja",
        "outputId": "1c8bc370-ddf5-481d-833e-9e2e7167ff98"
      },
      "execution_count": 7,
      "outputs": [
        {
          "output_type": "stream",
          "name": "stdout",
          "text": [
            "Dataset URL: https://www.kaggle.com/datasets/sandeshbhat/satellite-images-to-predict-povertyafrica\n",
            "License(s): other\n",
            "Downloading satellite-images-to-predict-povertyafrica.zip to /content\n",
            "100% 5.20G/5.21G [01:43<00:00, 49.5MB/s]\n",
            "100% 5.21G/5.21G [01:43<00:00, 53.9MB/s]\n"
          ]
        }
      ]
    },
    {
      "cell_type": "code",
      "source": [
        "# Colab cell 5: inspect\n",
        "!ls -la /content\n",
        "# Suppose images are in /content/images (adapt if different)\n"
      ],
      "metadata": {
        "colab": {
          "base_uri": "https://localhost:8080/"
        },
        "id": "MeWg9gXHk_Zb",
        "outputId": "eb668874-7d02-4373-ae91-b4a9743e340a"
      },
      "execution_count": 8,
      "outputs": [
        {
          "output_type": "stream",
          "name": "stdout",
          "text": [
            "total 7000\n",
            "drwxr-xr-x 1 root root    4096 Sep 10 17:01 .\n",
            "drwxr-xr-x 1 root root    4096 Sep 10 16:35 ..\n",
            "drwxr-xr-x 4 root root    4096 Sep  8 13:41 .config\n",
            "drwx------ 5 root root    4096 Sep 10 16:47 drive\n",
            "drwxr-xr-x 3 root root    4096 Sep 10 17:00 ethiopia_archive\n",
            "-rw-r--r-- 1 root root      74 Sep 10 16:51 kaggle.json\n",
            "drwxr-xr-x 3 root root    4096 Sep 10 17:00 malawi_archive\n",
            "drwxr-xr-x 3 root root    4096 Sep 10 16:59 Mali_archive\n",
            "drwxr-xr-x 3 root root    4096 Sep 10 17:01 nigeria_archive\n",
            "drwxr-xr-x 1 root root    4096 Sep  8 13:41 sample_data\n",
            "-rw-r--r-- 1 root root 7071756 Sep 10 16:36 yolov8n-seg.pt\n",
            "-rw-r--r-- 1 root root   50427 Sep 10 16:36 zidane.jpg\n"
          ]
        }
      ]
    },
    {
      "cell_type": "code",
      "source": [
        "!ls -la /content/nigeria_archive"
      ],
      "metadata": {
        "colab": {
          "base_uri": "https://localhost:8080/"
        },
        "id": "23Q4Xz7ClclS",
        "outputId": "8ea99ecd-a01c-43ce-cb37-6a95790d0635"
      },
      "execution_count": 9,
      "outputs": [
        {
          "output_type": "stream",
          "name": "stdout",
          "text": [
            "total 1300\n",
            "drwxr-xr-x 3 root root    4096 Sep 10 17:01 .\n",
            "drwxr-xr-x 1 root root    4096 Sep 10 17:01 ..\n",
            "drwxr-xr-x 2 root root 1318912 Sep 10 17:01 images\n"
          ]
        }
      ]
    },
    {
      "cell_type": "code",
      "source": [
        "!mkdir -p /content/dataset/images/train\n",
        "!mkdir -p /content/dataset/images/val\n",
        "\n",
        "# copy first 1040 images into train\n",
        "!ls /content/nigeria_archive/images/*.jpg | head -n 1040 | xargs -I{} cp {} /content/dataset/images/train/\n",
        "\n",
        "# copy last 260 images into val\n",
        "!ls /content/nigeria_archive/images/*.jpg | tail -n 260 | xargs -I{} cp {} /content/dataset/images/val/"
      ],
      "metadata": {
        "colab": {
          "base_uri": "https://localhost:8080/"
        },
        "id": "7VMRTzj-l0xI",
        "outputId": "4fe7cc0f-cc7c-4134-d485-1e38d0ffd766"
      },
      "execution_count": 11,
      "outputs": [
        {
          "output_type": "stream",
          "name": "stdout",
          "text": [
            "ls: cannot access '/content/nigeria_archive/images/*.jpg': No such file or directory\n",
            "ls: cannot access '/content/nigeria_archive/images/*.jpg': No such file or directory\n"
          ]
        }
      ]
    },
    {
      "cell_type": "code",
      "source": [
        "!ls /content/nigeria_archive/images | head -20"
      ],
      "metadata": {
        "colab": {
          "base_uri": "https://localhost:8080/"
        },
        "id": "--iqQGUxmHVn",
        "outputId": "f4befa13-5847-4b17-b402-81d778154af8"
      },
      "execution_count": 12,
      "outputs": [
        {
          "output_type": "stream",
          "name": "stdout",
          "text": [
            "10.0028716514_8.863027769988006_10.0028716514_8.877999691389999.png\n",
            "10.0028716514_8.89297161279199_10.0028716514_8.877999691389999.png\n",
            "10.014500853594024_8.537961383428009_10.0594166178_8.55293330483.png\n",
            "10.017843572801992_8.833083927184022_10.0028716514_8.877999691389999.png\n",
            "10.017843572801992_8.848055848586014_10.0028716514_8.877999691389999.png\n",
            "10.017843572801992_8.863027769988006_10.0028716514_8.877999691389999.png\n",
            "10.017843572801992_8.907943534193983_10.0028716514_8.877999691389999.png\n",
            "10.029472774996016_8.508017540624024_10.0594166178_8.55293330483.png\n",
            "10.029472774996016_8.55293330483_10.0594166178_8.55293330483.png\n",
            "10.029472774996016_8.582877147633985_10.0594166178_8.55293330483.png\n",
            "10.032815494203984_8.863027769988006_10.0028716514_8.877999691389999.png\n",
            "10.044718453896015_9.563723893414023_10.0746622967_9.60863965762.png\n",
            "10.044718453896015_9.593667736218007_10.0746622967_9.60863965762.png\n",
            "10.044718453896015_9.623611579021992_10.0746622967_9.60863965762.png\n",
            "10.0594166178_8.508017540624024_10.0594166178_8.55293330483.png\n",
            "10.074388539201992_8.582877147633985_10.0594166178_8.55293330483.png\n",
            "10.0746622967_9.578695814816015_10.0746622967_9.60863965762.png\n",
            "10.0746622967_9.638583500423984_10.0746622967_9.60863965762.png\n",
            "10.0746622967_9.653555421825976_10.0746622967_9.60863965762.png\n",
            "10.089360460603984_8.508017540624024_10.0594166178_8.55293330483.png\n"
          ]
        }
      ]
    },
    {
      "cell_type": "code",
      "source": [
        "!ls /content/nigeria_archive/images/*.png | head -n 1040 | xargs -I{} cp {} /content/dataset/images/train/\n",
        "!ls /content/nigeria_archive/images/*.png | tail -n 260 | xargs -I{} cp {} /content/dataset/images/val/"
      ],
      "metadata": {
        "id": "GsQK6SjvmOAb"
      },
      "execution_count": 13,
      "outputs": []
    },
    {
      "cell_type": "code",
      "source": [
        "!pip install roboflow"
      ],
      "metadata": {
        "colab": {
          "base_uri": "https://localhost:8080/"
        },
        "id": "EL1kb1voo6QU",
        "outputId": "3321be50-61b2-42cd-cec5-f28f18e01c8e"
      },
      "execution_count": 14,
      "outputs": [
        {
          "output_type": "stream",
          "name": "stdout",
          "text": [
            "Requirement already satisfied: roboflow in /usr/local/lib/python3.12/dist-packages (1.2.9)\n",
            "Requirement already satisfied: certifi in /usr/local/lib/python3.12/dist-packages (from roboflow) (2025.8.3)\n",
            "Requirement already satisfied: idna==3.7 in /usr/local/lib/python3.12/dist-packages (from roboflow) (3.7)\n",
            "Requirement already satisfied: cycler in /usr/local/lib/python3.12/dist-packages (from roboflow) (0.12.1)\n",
            "Requirement already satisfied: kiwisolver>=1.3.1 in /usr/local/lib/python3.12/dist-packages (from roboflow) (1.4.9)\n",
            "Requirement already satisfied: matplotlib in /usr/local/lib/python3.12/dist-packages (from roboflow) (3.10.0)\n",
            "Requirement already satisfied: numpy>=1.18.5 in /usr/local/lib/python3.12/dist-packages (from roboflow) (2.0.2)\n",
            "Requirement already satisfied: opencv-python-headless==4.10.0.84 in /usr/local/lib/python3.12/dist-packages (from roboflow) (4.10.0.84)\n",
            "Requirement already satisfied: Pillow>=7.1.2 in /usr/local/lib/python3.12/dist-packages (from roboflow) (11.3.0)\n",
            "Requirement already satisfied: pi-heif<2 in /usr/local/lib/python3.12/dist-packages (from roboflow) (1.1.0)\n",
            "Requirement already satisfied: pillow-avif-plugin<2 in /usr/local/lib/python3.12/dist-packages (from roboflow) (1.5.2)\n",
            "Requirement already satisfied: python-dateutil in /usr/local/lib/python3.12/dist-packages (from roboflow) (2.9.0.post0)\n",
            "Requirement already satisfied: python-dotenv in /usr/local/lib/python3.12/dist-packages (from roboflow) (1.1.1)\n",
            "Requirement already satisfied: requests in /usr/local/lib/python3.12/dist-packages (from roboflow) (2.32.4)\n",
            "Requirement already satisfied: six in /usr/local/lib/python3.12/dist-packages (from roboflow) (1.17.0)\n",
            "Requirement already satisfied: urllib3>=1.26.6 in /usr/local/lib/python3.12/dist-packages (from roboflow) (2.5.0)\n",
            "Requirement already satisfied: tqdm>=4.41.0 in /usr/local/lib/python3.12/dist-packages (from roboflow) (4.67.1)\n",
            "Requirement already satisfied: PyYAML>=5.3.1 in /usr/local/lib/python3.12/dist-packages (from roboflow) (6.0.2)\n",
            "Requirement already satisfied: requests-toolbelt in /usr/local/lib/python3.12/dist-packages (from roboflow) (1.0.0)\n",
            "Requirement already satisfied: filetype in /usr/local/lib/python3.12/dist-packages (from roboflow) (1.2.0)\n",
            "Requirement already satisfied: contourpy>=1.0.1 in /usr/local/lib/python3.12/dist-packages (from matplotlib->roboflow) (1.3.3)\n",
            "Requirement already satisfied: fonttools>=4.22.0 in /usr/local/lib/python3.12/dist-packages (from matplotlib->roboflow) (4.59.2)\n",
            "Requirement already satisfied: packaging>=20.0 in /usr/local/lib/python3.12/dist-packages (from matplotlib->roboflow) (25.0)\n",
            "Requirement already satisfied: pyparsing>=2.3.1 in /usr/local/lib/python3.12/dist-packages (from matplotlib->roboflow) (3.2.3)\n",
            "Requirement already satisfied: charset_normalizer<4,>=2 in /usr/local/lib/python3.12/dist-packages (from requests->roboflow) (3.4.3)\n"
          ]
        }
      ]
    },
    {
      "cell_type": "code",
      "source": [
        "from roboflow import Roboflow\n",
        "\n",
        "rf = Roboflow(api_key=\"z3xzjIH4fhPhpztniVXF\")\n",
        "project = rf.workspace(\"projectff360\").project(\"ff360.ai-xykov\")"
      ],
      "metadata": {
        "colab": {
          "base_uri": "https://localhost:8080/"
        },
        "id": "ZTQdUEAFpQD2",
        "outputId": "7684db38-eff0-48b5-ec78-1ea82cee6ab5"
      },
      "execution_count": 15,
      "outputs": [
        {
          "output_type": "stream",
          "name": "stdout",
          "text": [
            "loading Roboflow workspace...\n",
            "loading Roboflow project...\n"
          ]
        }
      ]
    },
    {
      "cell_type": "code",
      "source": [
        "import os, shutil, random\n",
        "\n",
        "# make a folder with 120 random images\n",
        "!mkdir -p /content/sample_subset\n",
        "all_images = !ls /content/nigeria_archive/images/*.png\n",
        "subset = random.sample(all_images, 120)\n",
        "\n",
        "for img in subset:\n",
        "    shutil.copy(img, \"/content/sample_subset/\")\n"
      ],
      "metadata": {
        "id": "jubo1nEdqEr1"
      },
      "execution_count": 16,
      "outputs": []
    },
    {
      "cell_type": "code",
      "source": [
        "dataset = project.upload(\"/content/sample_subset\")"
      ],
      "metadata": {
        "colab": {
          "base_uri": "https://localhost:8080/"
        },
        "id": "zKYZH9RwqM15",
        "outputId": "3dcf4adc-59ce-43a8-c34e-dd5109292d25"
      },
      "execution_count": 17,
      "outputs": [
        {
          "output_type": "stream",
          "name": "stdout",
          "text": [
            "[ /content/sample_subset/6.1765830510180075_5.046484378928009_6.19155497242_5.0614563003300015.png ] was uploaded succesfully.\n",
            "[ /content/sample_subset/13.2028054026_7.766383928755976_13.2028054026_7.72146816455.png ] was uploaded succesfully.\n",
            "[ /content/sample_subset/6.465704272951992_3.2820436242640243_6.45073235155_3.32695938847.png ] was uploaded succesfully.\n",
            "[ /content/sample_subset/11.804318628894023_9.434755396116016_11.8492343931_9.46469923892.png ] was uploaded succesfully.\n",
            "[ /content/sample_subset/4.819735270454023_7.805033477844024_4.86465103466_7.84994924205.png ] was uploaded succesfully.\n",
            "[ /content/sample_subset/4.826500147611992_7.165343515413984_4.81152822621_7.13539967261.png ] was uploaded succesfully.\n",
            "[ /content/sample_subset/7.720233220498009_8.432619423944024_7.735205141900001_8.47753518815.png ] was uploaded succesfully.\n",
            "[ /content/sample_subset/7.921149429235976_4.088676578734024_7.87623366503_4.13359234294.png ] was uploaded succesfully.\n",
            "[ /content/sample_subset/7.942760761428008_3.1806744301139838_7.95773268283_3.15073058731.png ] was uploaded succesfully.\n",
            "[ /content/sample_subset/6.161285965715977_6.8769289282960155_6.1163702015100005_6.9068727711.png ] was uploaded succesfully.\n",
            "[ /content/sample_subset/6.4903972988400005_3.3355845022319923_6.4903972988400005_3.32061258083.png ] was uploaded succesfully.\n",
            "[ /content/sample_subset/6.242807500533984_6.665917815084024_6.21286365773_6.71083357929.png ] was uploaded succesfully.\n",
            "[ /content/sample_subset/9.433530218905977_9.497229313465976_9.3886144547_9.45231354926.png ] was uploaded succesfully.\n",
            "[ /content/sample_subset/7.102589929746016_8.869340454916015_7.13253377255_8.89928429772.png ] was uploaded succesfully.\n",
            "[ /content/sample_subset/6.554027420784024_3.2833837804240242_6.59894318499_3.32829954463.png ] was uploaded succesfully.\n",
            "[ /content/sample_subset/8.50554868677_4.472797612918008_8.50554868677_4.48776953432.png ] was uploaded succesfully.\n",
            "[ /content/sample_subset/4.7287834369580075_6.807043698733985_4.74375535836_6.77709985593.png ] was uploaded succesfully.\n",
            "[ /content/sample_subset/6.50720123836_3.1470988485540237_6.50720123836_3.1920146127599995.png ] was uploaded succesfully.\n",
            "[ /content/sample_subset/6.732471237775976_3.1857147187080077_6.68755547357_3.20068664011.png ] was uploaded succesfully.\n",
            "[ /content/sample_subset/5.009072064164024_8.467335861925976_5.05398782837_8.42242009772.png ] was uploaded succesfully.\n",
            "[ /content/sample_subset/6.601177363931992_3.2734412797359758_6.58620544253_3.22852551553.png ] was uploaded succesfully.\n",
            "[ /content/sample_subset/9.073195144208007_7.330425707561993_9.08816706561_7.315453786160001.png ] was uploaded succesfully.\n",
            "[ /content/sample_subset/6.4316681334080075_7.529647016615976_6.44664005481_7.48473125241.png ] was uploaded succesfully.\n",
            "[ /content/sample_subset/6.227835579131992_6.725805500691992_6.21286365773_6.71083357929.png ] was uploaded succesfully.\n",
            "[ /content/sample_subset/12.668701251196017_8.577472051034023_12.698645094000002_8.62238781524.png ] was uploaded succesfully.\n",
            "[ /content/sample_subset/9.025954249764023_5.82079810028_9.07087001397_5.82079810028.png ] was uploaded succesfully.\n",
            "[ /content/sample_subset/4.949690944348008_7.849620011405976_4.96466286575_7.8047042472.png ] was uploaded succesfully.\n",
            "[ /content/sample_subset/10.571186269703984_7.472796992763985_10.5412424269_7.44285314996.png ] was uploaded succesfully.\n",
            "[ /content/sample_subset/7.303071520078008_3.9250748772539836_7.31804344148_3.89513103445.png ] was uploaded succesfully.\n",
            "[ /content/sample_subset/8.15833763849_4.220090265236016_8.15833763849_4.25003410804.png ] was uploaded succesfully.\n",
            "[ /content/sample_subset/5.243041083824024_6.978996950718008_5.28795684803_6.99396887212.png ] was uploaded succesfully.\n",
            "[ /content/sample_subset/6.451864592804023_3.271456871704024_6.49678035701_3.31637263591.png ] was uploaded succesfully.\n",
            "[ /content/sample_subset/10.335605786703985_11.153908184698007_10.3056619439_11.1688801061.png ] was uploaded succesfully.\n",
            "[ /content/sample_subset/8.941235848428008_7.238528392574024_8.95620776983_7.28344415678.png ] was uploaded succesfully.\n",
            "[ /content/sample_subset/4.752608912288008_7.0031995252419925_4.76758083369_6.98822760384.png ] was uploaded succesfully.\n",
            "[ /content/sample_subset/12.751305329603985_7.434907073376015_12.721361486800001_7.46485091618.png ] was uploaded succesfully.\n",
            "[ /content/sample_subset/9.903685540796015_8.92009305242_9.9336293836_8.92009305242.png ] was uploaded succesfully.\n",
            "[ /content/sample_subset/6.500360518263984_7.442715252614023_6.47041667546_7.487631016819999.png ] was uploaded succesfully.\n",
            "[ /content/sample_subset/8.941235848428008_7.313387999583984_8.95620776983_7.28344415678.png ] was uploaded succesfully.\n",
            "[ /content/sample_subset/9.182943567085976_8.705850993054025_9.13802780288_8.750766757260001.png ] was uploaded succesfully.\n",
            "[ /content/sample_subset/8.502071169301992_4.525417410316016_8.4870992479_4.55536125312.png ] was uploaded succesfully.\n",
            "[ /content/sample_subset/4.856443990415976_7.1803154368159765_4.81152822621_7.13539967261.png ] was uploaded succesfully.\n",
            "[ /content/sample_subset/6.468180177230001_3.586561051583984_6.468180177230001_3.55661720878.png ] was uploaded succesfully.\n",
            "[ /content/sample_subset/7.466059150236015_5.195113203666016_7.496002993039999_5.22505704647.png ] was uploaded succesfully.\n",
            "[ /content/sample_subset/6.628722057823983_3.330311960903984_6.5987782150199985_3.3003681181.png ] was uploaded succesfully.\n",
            "[ /content/sample_subset/6.417194824338008_7.5201195888639845_6.43216674574_7.49017574606.png ] was uploaded succesfully.\n",
            "[ /content/sample_subset/8.509641246611992_4.56243055738_8.49466932521_4.56243055738.png ] was uploaded succesfully.\n",
            "[ /content/sample_subset/6.455469577654024_9.191386821405976_6.50038534186_9.1464710572.png ] was uploaded succesfully.\n",
            "[ /content/sample_subset/4.678769002151992_7.317392631528008_4.66379708075_7.33236455293.png ] was uploaded succesfully.\n",
            "[ /content/sample_subset/6.401581924664024_3.260655514514024_6.44649768887_3.30557127872.png ] was uploaded succesfully.\n",
            "[ /content/sample_subset/9.019314299648007_7.6231055593359764_9.03428622105_7.57818979513.png ] was uploaded succesfully.\n",
            "[ /content/sample_subset/6.51865254779_6.984364294943984_6.51865254779_6.95442045214.png ] was uploaded succesfully.\n",
            "[ /content/sample_subset/6.476441531673984_3.260655514514024_6.44649768887_3.30557127872.png ] was uploaded succesfully.\n",
            "[ /content/sample_subset/11.248486941503984_4.866412884404023_11.2185430987_4.91132864861.png ] was uploaded succesfully.\n",
            "[ /content/sample_subset/6.32069789207_5.61852022931_6.32069789207_5.61852022931.png ] was uploaded succesfully.\n",
            "[ /content/sample_subset/11.940402273401993_8.545604501275976_11.925430352000001_8.50068873707.png ] was uploaded succesfully.\n",
            "[ /content/sample_subset/6.425500911254024_7.472659095418007_6.47041667546_7.487631016819999.png ] was uploaded succesfully.\n",
            "[ /content/sample_subset/8.456953346704024_4.519212284646016_8.50186911091_4.54915612745.png ] was uploaded succesfully.\n",
            "[ /content/sample_subset/4.7769228866337246_6.983580973327956_4.78376024056_7.020968667360001.png ] was uploaded succesfully.\n",
            "[ /content/sample_subset/7.573516672473985_7.569443715794024_7.54357282967_7.61435948.png ] was uploaded succesfully.\n",
            "[ /content/sample_subset/8.539940167743984_4.497884818148008_8.50999632494_4.51285673955.png ] was uploaded succesfully.\n",
            "[ /content/sample_subset/5.965219560435978_4.991031505223984_5.920303796230002_4.96108766242.png ] was uploaded succesfully.\n",
            "[ /content/sample_subset/6.737673844753985_3.2272305598680084_6.707730001950001_3.2422024812700005.png ] was uploaded succesfully.\n",
            "[ /content/sample_subset/12.532592179796016_8.343728818503985_12.5625360226_8.3137849757.png ] was uploaded succesfully.\n",
            "[ /content/sample_subset/4.413398690081992_7.168990481848009_4.39842676868_7.183962403250001.png ] was uploaded succesfully.\n",
            "[ /content/sample_subset/6.083608654694023_6.786847071371992_6.1285244189_6.77187514997.png ] was uploaded succesfully.\n",
            "[ /content/sample_subset/6.745360146454024_4.458231623696016_6.79027591066_4.4881754665.png ] was uploaded succesfully.\n",
            "[ /content/sample_subset/10.946849006903985_5.857840330911991_10.916905164100001_5.8428684095099985.png ] was uploaded succesfully.\n",
            "[ /content/sample_subset/6.633825301125976_3.333786314074024_6.588909536919999_3.37870207828.png ] was uploaded succesfully.\n",
            "[ /content/sample_subset/6.705565479108704_3.35894818659995_6.66811358701_3.35076026789.png ] was uploaded succesfully.\n",
            "[ /content/sample_subset/7.699759874105976_4.731372298768007_7.6548441099_4.746344220169999.png ] was uploaded succesfully.\n",
            "[ /content/sample_subset/12.296762752494024_9.600797559534023_12.3416785167_9.645713323739999.png ] was uploaded succesfully.\n",
            "[ /content/sample_subset/5.060429490516015_7.396151546573984_5.09037333332_7.36620770377.png ] was uploaded succesfully.\n",
            "[ /content/sample_subset/7.193750585703984_3.321513537803984_7.163806742899999_3.291569695.png ] was uploaded succesfully.\n",
            "[ /content/sample_subset/8.506777212765977_5.442556683576016_8.46186144856_5.47250052638.png ] was uploaded succesfully.\n",
            "[ /content/sample_subset/10.0594166178_8.508017540624024_10.0594166178_8.55293330483.png ] was uploaded succesfully.\n",
            "[ /content/sample_subset/6.510367518303983_3.124124066258008_6.480423675499999_3.13909598766.png ] was uploaded succesfully.\n",
            "[ /content/sample_subset/8.408589073858009_10.567716790203985_8.42356099526_10.5377729474.png ] was uploaded succesfully.\n",
            "[ /content/sample_subset/4.737636990886016_6.958283761036016_4.76758083369_6.98822760384.png ] was uploaded succesfully.\n",
            "[ /content/sample_subset/7.043093241645976_3.63779670957_6.99817747744_3.63779670957.png ] was uploaded succesfully.\n",
            "[ /content/sample_subset/7.357033288038007_3.962618820715976_7.372005209439999_3.91770305651.png ] was uploaded succesfully.\n",
            "[ /content/sample_subset/4.921876981474024_6.322853821528008_4.96679274568_6.33782574293.png ] was uploaded succesfully.\n",
            "[ /content/sample_subset/10.499622309401992_12.326354325396014_10.484650388_12.356298168199999.png ] was uploaded succesfully.\n",
            "[ /content/sample_subset/7.254467494505975_2.9895386600460165_7.2095517302999985_3.0194825028500003.png ] was uploaded succesfully.\n",
            "[ /content/sample_subset/6.479081594568008_4.7710749944439845_6.49405351597_4.74113115164.png ] was uploaded succesfully.\n",
            "[ /content/sample_subset/6.473981028338008_3.361563232945976_6.48895294974_3.3166474687400003.png ] was uploaded succesfully.\n",
            "[ /content/sample_subset/8.793544823536015_11.047107561594023_8.82348866634_11.0920233258.png ] was uploaded succesfully.\n",
            "[ /content/sample_subset/13.172861559796015_7.766383928755976_13.2028054026_7.72146816455.png ] was uploaded succesfully.\n",
            "[ /content/sample_subset/4.815102432224024_7.013683381454025_4.86001819643_7.0585991456600015.png ] was uploaded succesfully.\n",
            "[ /content/sample_subset/6.236080318823066_5.076033484920725_6.19155497242_5.0614563003300015.png ] was uploaded succesfully.\n",
            "[ /content/sample_subset/6.338118707191992_8.131057765251992_6.32314678579_8.11608584385.png ] was uploaded succesfully.\n",
            "[ /content/sample_subset/11.940402273401993_8.515660658471992_11.925430352000001_8.50068873707.png ] was uploaded succesfully.\n",
            "[ /content/sample_subset/7.356317727576016_3.8580748314360163_7.38626157038_3.88801867424.png ] was uploaded succesfully.\n",
            "[ /content/sample_subset/11.972784157398008_8.544738528751992_11.9877560788_8.52976660735.png ] was uploaded succesfully.\n",
            "[ /content/sample_subset/6.568999342186016_3.2833837804240242_6.59894318499_3.32829954463.png ] was uploaded succesfully.\n",
            "[ /content/sample_subset/11.248486941503984_4.956244412815976_11.2185430987_4.91132864861.png ] was uploaded succesfully.\n",
            "[ /content/sample_subset/6.707730001950001_3.1972867170640247_6.707730001950001_3.2422024812700005.png ] was uploaded succesfully.\n",
            "[ /content/sample_subset/7.767655270791991_4.5240813333560155_7.752683349389999_4.55402517616.png ] was uploaded succesfully.\n",
            "[ /content/sample_subset/7.388525836341992_4.018949699873984_7.37355391494_3.98900585707.png ] was uploaded succesfully.\n",
            "[ /content/sample_subset/5.480381011061992_7.569493837889999_5.46540908966_7.569493837889999.png ] was uploaded succesfully.\n",
            "[ /content/sample_subset/10.2960624391_11.155179435496015_10.2960624391_11.185123278299999.png ] was uploaded succesfully.\n",
            "[ /content/sample_subset/4.742947717814023_7.062622747054024_4.78786348202_7.1075385112600005.png ] was uploaded succesfully.\n",
            "[ /content/sample_subset/13.070622914371125_6.422953237649777_13.047369635499999_6.4649295458300005.png ] was uploaded succesfully.\n",
            "[ /content/sample_subset/7.782627192193983_4.568997097561992_7.752683349389999_4.55402517616.png ] was uploaded succesfully.\n",
            "[ /content/sample_subset/6.387763837784024_6.167314974286016_6.43267960199_6.19725881709.png ] was uploaded succesfully.\n",
            "[ /content/sample_subset/10.5770578857_12.191437047801994_10.5770578857_12.176465126400002.png ] was uploaded succesfully.\n",
            "[ /content/sample_subset/6.514392574216016_3.3569232745819924_6.54433641702_3.3419513531800003.png ] was uploaded succesfully.\n",
            "[ /content/sample_subset/7.7431806256239835_5.454677490394024_7.713236782819999_5.499593254600001.png ] was uploaded succesfully.\n",
            "[ /content/sample_subset/5.692077826159577_7.50502669871057_5.69861467033_7.519499328169999.png ] was uploaded succesfully.\n",
            "[ /content/sample_subset/8.43064997734_8.45630955159199_8.43064997734_8.441337630189999.png ] was uploaded succesfully.\n",
            "[ /content/sample_subset/10.349312641905977_9.84682965897_10.3043968777_9.84682965897.png ] was uploaded succesfully.\n",
            "[ /content/sample_subset/7.906177507833984_4.178508107145976_7.87623366503_4.13359234294.png ] was uploaded succesfully.\n",
            "[ /content/sample_subset/12.289738227408504_4.371034204309754_12.3199073143_4.34470881753.png ] was uploaded succesfully.\n",
            "[ /content/sample_subset/9.962854178585976_11.704388564601992_9.91793841438_11.6894166432.png ] was uploaded succesfully.\n",
            "[ /content/sample_subset/5.099245737838008_7.404540101403984_5.11421765924_7.3745962586.png ] was uploaded succesfully.\n",
            "[ /content/sample_subset/6.706058178941992_9.205967895873984_6.69108625754_9.17602405307.png ] was uploaded succesfully.\n",
            "[ /content/sample_subset/9.612135229511994_6.595035966525976_9.597163308110002_6.55012020232.png ] was uploaded succesfully.\n",
            "[ /content/sample_subset/5.1291895806419925_7.344652415796015_5.11421765924_7.3745962586.png ] was uploaded succesfully.\n",
            "[ /content/sample_subset/7.372005209439999_3.8727872923040243_7.372005209439999_3.91770305651.png ] was uploaded succesfully.\n",
            "[ /content/sample_subset/7.772967407611992_4.576122964501992_7.75799548621_4.5611510431.png ] was uploaded succesfully.\n"
          ]
        }
      ]
    },
    {
      "cell_type": "code",
      "source": [
        "from google.colab import drive\n",
        "drive.mount('/content/drive')\n"
      ],
      "metadata": {
        "colab": {
          "base_uri": "https://localhost:8080/"
        },
        "id": "cGphhcY0sCtJ",
        "outputId": "cd47ee8b-ec70-4949-ce29-b5ea8a47cfbb"
      },
      "execution_count": 18,
      "outputs": [
        {
          "output_type": "stream",
          "name": "stdout",
          "text": [
            "Drive already mounted at /content/drive; to attempt to forcibly remount, call drive.mount(\"/content/drive\", force_remount=True).\n"
          ]
        }
      ]
    },
    {
      "cell_type": "code",
      "source": [
        "# Check if Drive is mounted\n",
        "!ls /content/drive\n",
        "\n",
        "# Look inside MyDrive (your main Drive folder)\n",
        "!ls -lh /content/drive/MyDrive\n",
        "\n",
        "# Check if your project folders exist\n",
        "!ls -lh /content/drive/MyDrive/ | grep fastfind360\n",
        "!ls -lh /content/drive/MyDrive/ | grep sample_subset\n",
        "!ls -lh /content/drive/MyDrive/ | grep nigeria_archive"
      ],
      "metadata": {
        "colab": {
          "base_uri": "https://localhost:8080/"
        },
        "id": "EtRENyEMsLMF",
        "outputId": "1390c29d-a972-42d9-e258-831345335419"
      },
      "execution_count": 19,
      "outputs": [
        {
          "output_type": "stream",
          "name": "stdout",
          "text": [
            "MyDrive\n",
            "ls: '/content/drive/MyDrive/Ultimate Web Designer & Developer Course: Build 23 Projects!': No such file or directory\n",
            "ls: '/content/drive/MyDrive/GDG Team Project Documents': No such file or directory\n",
            "total 303M\n",
            "-rw------- 1 root root 1.2M Nov 27  2021 '[100% OFF] Zero to Hero in Microsoft Excel_ Complete Excel guide 2021 - Tutorial Bar.pdf'\n",
            "-rw------- 1 root root 7.9K Aug 30  2023  2021-Supplementary-Admission.pdf\n",
            "-rw------- 1 root root 238K Aug 29  2024  52-professional-foundations-certificate-muhammad-adamu-aliyu.png\n",
            "-rw------- 1 root root 200K Aug 30  2023  69259161-regions-of-female-body-female-body-front-and-back-female-human-body-parts-human-anatomy-chart_1692429183988.jpg\n",
            "-rw------- 1 root root 241K Aug 29  2024  73-alx-aice-ai-career-essentials-certificate-muhammad-adamu-aliyu.png\n",
            "-rw------- 1 root root  12K Aug 18 14:00  Adamu_Aliyu_Mohammed.docx\n",
            "-rw------- 1 root root  185 May  2 02:23 'admin VibroLearn Plan.gdoc'\n",
            "-rw------- 1 root root  185 Jan 11  2025 'AI Academy App idea.gdoc'\n",
            "-rw------- 1 root root 116K Jan 10  2025 'AI Academy App idea.pdf'\n",
            "-rw------- 1 root root 8.3K Jan 31  2025 'AI Academy.docx'\n",
            "-rw------- 1 root root  185 Mar 13 00:12 'AI Academy.gdoc'\n",
            "-rw------- 1 root root  185 Mar 17 04:24 'AI Academy Info Session.gslides'\n",
            "-rw------- 1 root root  185 Mar 17 11:52 '🎯 AI Academy Info Session Outline.gdoc'\n",
            "-rw------- 1 root root  26K Jan  1  1601 'AI Academy Logo.png'\n",
            "-rw------- 1 root root 9.8K Mar 16 11:58  AI_Academy_Tracker_Final_v4.xlsx\n",
            "-rw------- 1 root root  185 May 18 08:11 'AI Academy Tracker.gsheet'\n",
            "-rw------- 1 root root  185 Jan 13  2025 'AI Academy - Weekly theme..gdoc'\n",
            "-rw------- 1 root root  185 Mar 13 16:02  AI_Registered_List.gsheet\n",
            "-rw------- 1 root root 3.5K Mar 13 12:12  AI_Study_List.csv\n",
            "-rw------- 1 root root 3.6K Mar 13 12:20  AI_Study_List_with_SN.csv\n",
            "-rw------- 1 root root  185 Feb 25  2025 'All Supabase Schema.gdoc'\n",
            "drwx------ 2 root root 4.0K Jun 16  2024 'ALX Foundation '\n",
            "drwx------ 2 root root 4.0K Dec  8  2024  App\n",
            "-rw------- 1 root root  185 Aug 30  2023 'Assignment tracker.gsheet'\n",
            "-rw------- 1 root root 750K Aug 30  2023  b2257580-3f35-11ee-8bbf-09c2aebb88b6.jpg\n",
            "-rw------- 1 root root  53K Nov 18  2024  Biol-204-Sampling.pdf\n",
            "-rw------- 1 root root  185 Dec 23  2024 'Biostatistics 204.gdoc'\n",
            "-rw------- 1 root root 4.0M May 29  2021 'B.O.C_madaki_ zafi .mp3'\n",
            "-rw------- 1 root root  185 Feb 21  2025 'B-Plan App.gdoc'\n",
            "-rw------- 1 root root  20K Sep  7 12:05 'Business Funding Data Preprocessing'\n",
            "-rw------- 1 root root 787K Aug 30  2023  c1246af0-3f35-11ee-8bbf-09c2aebb88b6.jpg\n",
            "-rw------- 1 root root 144M Aug 13 17:54  campusdeal.ng.pitch.mp4\n",
            "-rw------- 1 root root 4.2M Aug 20 19:51  Campus_Deal_PitchDeck.docx\n",
            "-rw------- 1 root root  185 Aug 20 19:45  Campus_Deal_PitchDeck.gdoc\n",
            "-rw------- 1 root root 1.5M Aug 20 19:39  Campus_Deal_PitchDeck.pdf\n",
            "-rw------- 1 root root  185 Dec 14  2024 'Campus Feedback and Improvement Survey.gform'\n",
            "-rw------- 1 root root  185 Jul  5  2024 \"Chapter one: Hasseya's Message.gdoc\"\n",
            "-rw------- 1 root root  185 Mar 14  2024 'Chapter one:'$'\\n\\n''I was okay right just before, right....gdoc'\n",
            "-rw------- 1 root root  185 Sep  7  2024 'CHEM107 PINs.gdoc'\n",
            "-rw------- 1 root root  185 May 25 13:34 'Class Representative Experience & App Development Survey.gform'\n",
            "drwx------ 2 root root 4.0K Nov 30  2024  Classroom\n",
            "drwx------ 2 root root 4.0K Aug  4 03:19 'Colab Notebooks'\n",
            "-rw------- 1 root root  185 Aug  4  2024 'Comprehensive Digital Literacy App.gslides'\n",
            "-rw------- 1 root root  185 Jun 23  2024 'Copy of ALX Professional Foundations Skills Tracker  (1).gsheet'\n",
            "-rw------- 1 root root  185 Aug  4  2024 'Copy of ALX Professional Foundations Skills Tracker .gsheet'\n",
            "-rw------- 1 root root  185 Jul 12  2024 'Copy of First Team Meeting Agenda (1).gdoc'\n",
            "-rw------- 1 root root  185 Jul 14  2024 'Copy of First Team Meeting Agenda.gdoc'\n",
            "-rw------- 1 root root  185 Jun 23  2024 'Copy of Google Workspace Skills Checklist_ ALX Professional Foundations (1).gsheet'\n",
            "-rw------- 1 root root  185 Jun 23  2024 'Copy of Google Workspace Skills Checklist_ ALX Professional Foundations (2).gsheet'\n",
            "-rw------- 1 root root  185 Jun 30  2024 'Copy of Google Workspace Skills Checklist_ ALX Professional Foundations.gsheet'\n",
            "-rw------- 1 root root  185 Jun 23  2024 'Copy of HABIT TRACKER TEMPLATE.gsheet'\n",
            "-rw------- 1 root root  185 Jun 16  2024 'Copy of Milestone # 1 Rubric.gdoc'\n",
            "-rw------- 1 root root  185 Jun 30  2024 'Copy of Milestone # 3 Rubric (1).gdoc'\n",
            "-rw------- 1 root root  185 Jun 30  2024 'Copy of Milestone # 3 Rubric.gdoc'\n",
            "-rw------- 1 root root  185 Jun 28  2024 'Copy of Milestone # 3 Worksheet - Cohort 3 (1).gdoc'\n",
            "-rw------- 1 root root  185 Jun 30  2024 'Copy of Milestone # 3 Worksheet - Cohort 3.gdoc'\n",
            "-rw------- 1 root root  185 Jun 23  2024 'Copy of PICS and Personal Mission Statement Worksheet - ALX Professional Foundations (1).gdoc'\n",
            "-rw------- 1 root root  185 Jun 23  2024 'Copy of PICS and Personal Mission Statement Worksheet - ALX Professional Foundations (2).gdoc'\n",
            "-rw------- 1 root root  185 Jun 22  2024 'Copy of PICS and Personal Mission Statement Worksheet - ALX Professional Foundations (3).gdoc'\n",
            "-rw------- 1 root root  185 Jun 23  2024 'Copy of PICS and Personal Mission Statement Worksheet - ALX Professional Foundations.gdoc'\n",
            "-rw------- 1 root root  185 Aug 28  2024 'Copy of Practical Case Scenario 1: Managing Your Project with Git.gdoc'\n",
            "-rw------- 1 root root  185 Aug 29  2024 'Copy of Practical Case Scenario 2: Selective Staging with Git.gdoc'\n",
            "-rw------- 1 root root  185 Jun 23  2024 'Copy of Prioritization-Matrix-Template-ALX Professional Foundations Program.gsheet'\n",
            "-rw------- 1 root root  185 Jul  7  2024 'Copy of Project Plan Work plan Template_ALX .gsheet'\n",
            "-rw------- 1 root root  185 Jul 28  2024 'Copy of Prototype & Wireframe Checklist:.gdoc'\n",
            "-rw------- 1 root root  185 Aug  4  2024 'Copy of Resume Template #1.gdoc'\n",
            "-rw------- 1 root root  185 Aug  4  2024 'Copy of Resume Template #2.gdoc'\n",
            "-rw------- 1 root root  185 Aug  4  2024 'Copy of Resume Template #3.gdoc'\n",
            "-rw------- 1 root root  185 Aug  4  2024 'Copy of Resume Template #4.gdoc'\n",
            "-rw------- 1 root root  185 Aug  3  2024 'Copy of Video Recording Checklist.gsheet'\n",
            "-rw------- 1 root root  185 Jul 15  2024 'Copy of Week #6 Milestone Worksheet - PF (1).gdoc'\n",
            "-rw------- 1 root root  185 Jul 21  2024 'Copy of Week #6 Milestone Worksheet - PF.gdoc'\n",
            "-rw------- 1 root root  185 Aug  4  2024 'Copy of Week #8 Milestone Worksheet.gdoc'\n",
            "-rw------- 1 root root 187K Nov  2  2024 'CourseRegistrationSlip (4).pdf'\n",
            "-rw------- 1 root root  185 Apr 18 10:41 'Data preprocessing in AI.gdoc'\n",
            "-rw------- 1 root root  185 Apr 18 11:05 'Data Preprocessing in AI & Machine Learning.gdoc'\n",
            "-rw------- 1 root root  185 Mar 17 11:59 'Data Record AI Academy.gsheet'\n",
            "-rw------- 1 root root 482K Jun 25 13:00 'DIGITAL FOR ALL CHALLENGE 2.0 MOU (Filled).pdf'\n",
            "-rw------- 1 root root  185 Apr  9 22:58 'Digital Marketplace for Campus Commerce.gdoc'\n",
            "-rw------- 1 root root 170K Apr  9 22:59 'Digital Marketplace for Campus Commerce.pdf'\n",
            "-rw------- 1 root root  18K Aug  1  2023 'Document from Light Speed 💨.pdf'\n",
            "-rw------- 1 root root 1.3K Jan 11  2025 'Document from Sudo 👨🏻‍💻 gdg logo'\n",
            "-rw------- 1 root root  174 Dec 16  2024  Event.gsite\n",
            "-rw------- 1 root root 302K Jan 27  2024  examguideoverview.pdf\n",
            "-rw------- 1 root root  185 Feb 10  2025 'FIELD TRIP REPORT: KANAWA FOREST - Bar chart 1.gsheet'\n",
            "-rw------- 1 root root  185 Feb 10  2025 'FIELD TRIP REPORT: KANAWA FOREST.gdoc'\n",
            "-rw------- 1 root root 362K Feb 10  2025 'FIELD TRIP REPORT_ KANAWA FOREST - Google Docs.pdf'\n",
            "-rw------- 1 root root  38K Aug 30  2023  flowchart-example-calculate-profit-and-loss.png\n",
            "-rw------- 1 root root  45K Aug 30  2023  flowchart-example-medical-service.png\n",
            "-rw------- 1 root root  31K Aug 30  2023  flowchart-example-simple-algorithms.png\n",
            "-rw------- 1 root root  185 Sep  8  2023 '                    *Forever star*.gdoc'\n",
            "-rw------- 1 root root  185 Apr  5 12:32 'Foundations of ML.gslides'\n",
            "-rw------- 1 root root  185 Feb 27  2025 'GDG Agenda.gdoc'\n",
            "-rw------- 1 root root 5.7K Mar 13 16:32  GDG_GSU_Registration_Complete.csv\n",
            "-rw------- 1 root root  185 Mar  8  2025 'GDG-GSU Tech Academy 2025: Cohort 1 Registration.gform'\n",
            "-rw------- 1 root root  41K Mar 13 11:07 'GDG-GSU Tech Academy 2025: Cohort 1 Registration (Responses).pdf'\n",
            "-rw------- 1 root root  185 Mar 16 20:38 'GDG-GSU Tracker.gsheet'\n",
            "drwx------ 2 root root 4.0K Apr 29 23:45 'GDGOC-GSU- Artificial Intelligence '\n",
            "lrw------- 1 root root    0 Apr  9 16:14 'GDG Team Project Documents' -> '/content/drive/.shortcut-targets-by-id/1HXN6CE-LIH8U7YrzRa80aU3m9zqgjLtr/GDG Team Project Documents'\n",
            "-rw------- 1 root root  185 Jan 14  2025 'GenAI Transcript..gdoc'\n",
            "-rw------- 1 root root  77K Aug 30  2023 'Gmail - Application Admitted!.pdf'\n",
            "-rw------- 1 root root 127K Aug 30  2023 'Gmail - Project T-Max_ You have been Shortlisted  Muhammad.pdf'\n",
            "-rw------- 1 root root  185 Jul  4 23:25 'GoHealth or FTH For IT .gdoc'\n",
            "drwx------ 2 root root 4.0K Jun  4  2024 'Google AI Studio'\n",
            "-rw------- 1 root root  185 Jan  3  2025 'Google Auth- CC.gdoc'\n",
            "-rw------- 1 root root  60K Aug 18 12:05 'GovPulse (1).pdf'\n",
            "-rw------- 1 root root 8.8K Aug 23 21:31  GovPulse.docx\n",
            "-rw------- 1 root root  185 Aug 18 12:08  GovPulse.gdoc\n",
            "-rw------- 1 root root  60K Aug 18 12:09  GovPulse.pdf\n",
            "-rw------- 1 root root  185 Aug 30  2023 'Grade book.gsheet'\n",
            "-rw------- 1 root root  185 Jun 13 13:24 'GSU Market Action draft.gdoc'\n",
            "-rw------- 1 root root  185 May 30 02:05 'GSU Market Fintech Payment Integration Plan.gdoc'\n",
            "-rw------- 1 root root  185 Jun 15 16:17 'GSU Market Wallet Features.gdoc'\n",
            "-rw------- 1 root root  185 May 30 02:36 'GSU Market Wallet System Integration Plan.gdoc'\n",
            "-rw------- 1 root root  185 Mar 19 04:37 'Guidance on Using the Great Learning Platform.gdoc'\n",
            "-rw------- 1 root root  185 Mar 19 06:42 'Guidance on Using the Great Learning Platform.gslides'\n",
            "-rw------- 1 root root  185 Jan  7  2025 \"Here's the thing-.gdoc\"\n",
            "-rw------- 1 root root  185 Dec 17  2023 'Hey can you pls make it like everything I need to know about how and the process also the organs associated with the respiration pls.gdoc'\n",
            "-rw------- 1 root root  185 Jun 21 14:36 'Hey… Create a modern, clean slide deck titled -CampusDeal Ground Team – Onboarding-.gdoc'\n",
            "-rw------- 1 root root 5.2K Jun 21 14:37 'Hey… Create a modern, clean slide deck titled -CampusDeal Ground Team – Onboarding-.txt'\n",
            "-rw------- 1 root root  185 Dec 17  2023 'Hey write me about the respiration in goat, snake and, snail with all info and processes .gdoc'\n",
            "-rw------- 1 root root  185 Dec 14  2024 'Ideas Brainstorm.gdoc'\n",
            "-rw------- 1 root root 7.5K Jan  8  2025  Ideas.docx\n",
            "-rw------- 1 root root 1.2M Aug 15  2024  IMG_20240815_211747.jpg\n",
            "-rw------- 1 root root 1.1M Aug 15  2024  IMG_20240815_211822.jpg\n",
            "-rw------- 1 root root 1.9M Sep 22  2024  IMG_20240922_104142.jpg\n",
            "-rw------- 1 root root 3.0M Apr 28 11:46  IMG_20241225_135121.jpg\n",
            "-rw------- 1 root root  92K Jan 29  2025  IMG-20250129-WA0003.jpg\n",
            "-rw------- 1 root root 640K Jul 13 09:10  IMG_20250713_101028.jpg\n",
            "-rw------- 1 root root  185 Feb  5  2024 'In a tabular form, write all the excretory system user by each phylum stating their excretory products .gsheet'\n",
            "-rw------- 1 root root   38 Jun 25  2021 'Infrared - Wikipedia'\n",
            "-rw------- 1 root root  185 Jun 27  2024  Init__py.gdoc\n",
            "-rw------- 1 root root  185 Apr  9 12:39 'Introduction to Deep Learning.gdoc'\n",
            "-rw------- 1 root root  185 Apr 22 23:33 'Introduction to Prompt Engineering.gdoc'\n",
            "-rw------- 1 root root  185 Apr  2 21:46 'Kula: The Comprehensive Digital Health Ecosystem for Nigeria.gdoc'\n",
            "-rw------- 1 root root  185 Jul 28 20:03 'Learn the Core Concepts.gdoc'\n",
            "-rw------- 1 root root  185 Dec 14  2024 'Lecturers and Administrators: App Development Survey.gform'\n",
            "-rw------- 1 root root  36K Nov  1  2024  logo.png\n",
            "-rw------- 1 root root 9.3K Jul 14  2024 'Milestone 5.docx'\n",
            "-rw------- 1 root root  185 Jan 25  2025 'Module Pages.gdoc'\n",
            "-rw------- 1 root root 2.1M Nov 22  2024  MOHAMMED_ALIYU_ADAMU_GDG_2024.jpg\n",
            "-rw------- 1 root root 299K Dec  9  2024  MOHAMMED_ALIYU_ADAMU_GDGoc_2024.jpg\n",
            "-rw------- 1 root root 3.0M Jun 25 11:22 'Muhammad Aliyu Adamu (me)'\n",
            "-rw------- 1 root root  14K Aug 12 14:09 'Mycology- The Study of Fungi.docx'\n",
            "-rw------- 1 root root 1.1M Aug 30  2023 'National Identi.doc'\n",
            "-rw------- 1 root root  185 Dec 23  2024 'OmniLearn Brainstorm.gdoc'\n",
            "-rw------- 1 root root 137K Mar 19 06:43 'Overall 12-Week AI Curriculum.docx'\n",
            "-rw------- 1 root root  185 Mar 16 23:33 'Overall 12-Week AI Curriculum.gdoc'\n",
            "-rw------- 1 root root 172K Mar 17 01:03 'Overall 12-Week AI Curriculum.pdf'\n",
            "-rw------- 1 root root  44M Mar 17 01:12 'Overall 12-Week AI Curriculum.pptx'\n",
            "-rw------- 1 root root  185 Apr  9 21:15 'Overview of internship opportunities.gdoc'\n",
            "-rw------- 1 root root 3.8M Aug  2  2023  Picsart_23-08-02_22-17-01-435.png\n",
            "-rw------- 1 root root 2.0M Aug 30  2023  Picsart_23-08-18_16-38-30-284.png\n",
            "-rw------- 1 root root 9.8M Aug 30  2023  Picsart_23-08-20_18-34-51-051.png\n",
            "-rw------- 1 root root 2.9M Aug 30  2023  Picsart_23-08-20_18-56-24-098.png\n",
            "-rw------- 1 root root 3.3M Jun 18  2024  Picsart_24-06-18_14-56-29-453.png\n",
            "-rw------- 1 root root 4.6M Aug  6  2024  Picsart_24-07-19_09-04-22-490.png\n",
            "-rw------- 1 root root 3.7M Aug  7  2024  Picsart_24-08-06_09-26-27-092.png\n",
            "-rw------- 1 root root 4.1M Aug 15  2024  Picsart_24-08-15_20-50-08-435.png\n",
            "-rw------- 1 root root 2.7M Oct 31  2024  Picsart_24-10-31_08-06-14-656.png\n",
            "-rw------- 1 root root 4.3M Aug 30  2023  png_20230816_000239_0000.png\n",
            "-rw------- 1 root root 214K Jun 23  2024 'project 720k.docx'\n",
            "-rw------- 1 root root 8.8K Aug 18 12:04 'Project Title-.docx'\n",
            "-rw------- 1 root root  185 Feb 12  2025  Requirements:.gdoc\n",
            "-rw------- 1 root root  185 Nov 12  2024 'Resume (1).gdoc'\n",
            "-rw------- 1 root root  185 Aug  4  2024 'Resume (2).gdoc'\n",
            "-rw------- 1 root root 2.9M Aug 27 00:43  Resume.docx\n",
            "-rw------- 1 root root  185 Aug 27 00:43  Resume.gdoc\n",
            "-rw------- 1 root root  185 Apr 23 10:18  Scholaria.gdoc\n",
            "-rw------- 1 root root  89K Aug 30  2023  Screenshot_2023-08-30-01-04-47-930_com.opera.mini.native.png\n",
            "-rw------- 1 root root 107K Feb  5  2024  Screenshot_2024-02-05-16-56-03-609_com.blockchainvault.png\n",
            "-rw------- 1 root root  34K Aug 26 22:00  Screenshot_20250825-215537.png\n",
            "-rw------- 1 root root 6.2K Jun 25 12:54  signature.png\n",
            "-rw------- 1 root root  12M Nov 18  2024 'Simple Trading Book v2.pdf'\n",
            "-rw------- 1 root root 164K Aug  6  2024  Snapchat-134097555.jpg\n",
            "-rw------- 1 root root 878K Aug 30  2023  SPG-Admission-List-2022-PDF.pdf\n",
            "-rw------- 1 root root  185 Aug 25 06:38 'Stellite CV,ML detection system.gdoc'\n",
            "-rw------- 1 root root  185 Dec 14  2024 'Student Experience & App Development Survey.gform'\n",
            "-rw------- 1 root root  185 Aug 20  2024 'Task 01.gdoc'\n",
            "-rw------- 1 root root  185 Aug 28  2024 'Test my Understanding - Git.gdoc'\n",
            "-rw------- 1 root root  185 Dec  6  2024 'The GDG Volunteer Team.gform'\n",
            "-rw------- 1 root root  185 Oct  8  2024 'The Loneliness of Survival.gdoc'\n",
            "-rw------- 1 root root  185 Apr 14 11:08 'The Role of Data in AI.gdoc'\n",
            "-rw------- 1 root root  185 Aug 30  2023 'To-do list.gsheet'\n",
            "-rw------- 1 root root  12K Jan 10  2025 'Training Structure for Web Development Using Webflow.docx'\n",
            "-rw------- 1 root root 158K Aug 30  2023  traits.pdf\n",
            "drwx------ 2 root root 4.0K Jun  6  2024  TrustWalletBackup\n",
            "lrw------- 1 root root    0 Jan 18  2025 'Ultimate Web Designer & Developer Course: Build 23 Projects!' -> '/content/drive/.shortcut-targets-by-id/0Bzqj0flCpPOiVjh0QzMwMW13TVk/Ultimate Web Designer & Developer Course: Build 23 Projects!'\n",
            "-rw------- 1 root root  185 Jun 20 06:50 'Understanding the Monnify Payment Integration.gdoc'\n",
            "-rw------- 1 root root  185 Jul  7  2024 'Untitled document (10).gdoc'\n",
            "-rw------- 1 root root  185 Jun 30  2024 'Untitled document (11).gdoc'\n",
            "-rw------- 1 root root  185 Jun 27  2024 'Untitled document (12).gdoc'\n",
            "-rw------- 1 root root  185 Jun 23  2024 'Untitled document (13).gdoc'\n",
            "-rw------- 1 root root  185 Jun 16  2024 'Untitled document (14).gdoc'\n",
            "-rw------- 1 root root  185 Jun 13 22:12 'Untitled document (1).gdoc'\n",
            "-rw------- 1 root root  98K Aug 12 14:13 'Untitled document (1).pdf'\n",
            "-rw------- 1 root root  185 Mar 16 13:05 'Untitled document (2).gdoc'\n",
            "-rw------- 1 root root  185 Mar  6  2025 'Untitled document (3).gdoc'\n",
            "-rw------- 1 root root  185 Nov 25  2024 'Untitled document (4).gdoc'\n",
            "-rw------- 1 root root  185 Nov 17  2024 'Untitled document (5).gdoc'\n",
            "-rw------- 1 root root  185 Jul 14  2024 'Untitled document (6).gdoc'\n",
            "-rw------- 1 root root  185 Jul 14  2024 'Untitled document (7).gdoc'\n",
            "-rw------- 1 root root  185 Jul 13  2024 'Untitled document (8).gdoc'\n",
            "-rw------- 1 root root  185 Jul 13  2024 'Untitled document (9).gdoc'\n",
            "-rw------- 1 root root  185 Aug 12 14:13 'Untitled document.gdoc'\n",
            "-rw------- 1 root root  60K Aug 18 12:04 'Untitled document.pdf'\n",
            "-rw------- 1 root root  185 May 25 13:46 'Untitled form.gform'\n",
            "-rw------- 1 root root  185 Jun 27  2024 'Untitled presentation (1).gslides'\n",
            "-rw------- 1 root root  185 Jul  7  2024 'Untitled presentation - Bar chart 1.gsheet'\n",
            "-rw------- 1 root root  185 Jul  7  2024 'Untitled presentation - Column chart 1.gsheet'\n",
            "-rw------- 1 root root  185 Jul  7  2024 'Untitled presentation.gslides'\n",
            "-rw------- 1 root root  185 Jul  7  2024 'Untitled presentation - Line chart 1.gsheet'\n",
            "-rw------- 1 root root  185 Jul  7  2024 'Untitled presentation - Pie chart 1.gsheet'\n",
            "-rw------- 1 root root  185 Jul 16  2024 'Untitled spreadsheet (1).gsheet'\n",
            "-rw------- 1 root root  185 Jul  7  2024 'Untitled spreadsheet (2).gsheet'\n",
            "-rw------- 1 root root  185 Aug 30  2023 'Untitled spreadsheet (3).gsheet'\n",
            "-rw------- 1 root root  185 Mar 13 12:19 'Untitled spreadsheet.gsheet'\n",
            "-rw------- 1 root root  185 Apr 23 01:12 'Vibrolean Companion App - Project Draft.gdoc'\n",
            "-rw------- 1 root root  185 Apr 26 20:38 'VibroLearn – Development Roadmap & Execution Strategy.gdoc'\n",
            "-rw------- 1 root root  22M Apr 15 17:59  VID-20250415-WA0041.mp4\n",
            "-rw------- 1 root root  59K Aug 30  2023 'WAECDIRECT ONLINE - RESULTS.pdf'\n",
            "-rw------- 1 root root 4.0M Jun  8  2021  webview.pdf\n",
            "-rw------- 1 root root  185 Aug 27 17:13 'Week 1 course 2 Assignment.gdoc'\n",
            "-rw------- 1 root root  185 Apr 30 12:40 'Week 5: Build Your First Chatbot Using Dialogflow.gdoc'\n",
            "-rw------- 1 root root  185 Apr 30 12:29 'Week 5: DialogFlow_Create Your First Intent.gdoc'\n",
            "-rw------- 1 root root 3.2M Aug  4  2024 'Week 7 milestone 1'\n",
            "drwx------ 2 root root 4.0K Aug  4  2024 'Week 7 milestone 1 (Unzipped Files)'\n",
            "-rw------- 1 root root  185 Aug  4  2024 'Week 7 milestone.gdoc'\n",
            "-rw------- 1 root root  185 Mar 19 06:44 'Week-One: Introduction To AI.gdoc'\n",
            "-rw------- 1 root root  185 Jan 13  2025 'Week one- What is AI?.gdoc'\n",
            "-rw------- 1 root root  185 Jun 27  2024 'Who knows?.gdoc'\n",
            "ls: '/content/drive/MyDrive/Ultimate Web Designer & Developer Course: Build 23 Projects!': No such file or directory\n",
            "ls: '/content/drive/MyDrive/GDG Team Project Documents': No such file or directory\n",
            "ls: '/content/drive/MyDrive/Ultimate Web Designer & Developer Course: Build 23 Projects!': No such file or directory\n",
            "ls: '/content/drive/MyDrive/GDG Team Project Documents': No such file or directory\n",
            "ls: '/content/drive/MyDrive/Ultimate Web Designer & Developer Course: Build 23 Projects!': No such file or directory\n",
            "ls: '/content/drive/MyDrive/GDG Team Project Documents': No such file or directory\n"
          ]
        }
      ]
    }
  ]
}